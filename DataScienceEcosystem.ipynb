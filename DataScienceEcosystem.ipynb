{
 "cells": [
  {
   "cell_type": "markdown",
   "id": "ca1e5b80",
   "metadata": {},
   "source": [
    "# Data Science Tools and Ecosystem"
   ]
  },
  {
   "cell_type": "markdown",
   "id": "1700df81",
   "metadata": {},
   "source": [
    "# In this notebook, Data Science Tools and Ecosystem are summarized."
   ]
  },
  {
   "cell_type": "markdown",
   "id": "70e21c20",
   "metadata": {},
   "source": [
    "##Objectives:\n",
    "•python\n",
    "•R\n",
    "•Scala\n",
    "•Julia\n",
    "•C++"
   ]
  },
  {
   "cell_type": "raw",
   "id": "8750e6d2",
   "metadata": {},
   "source": [
    "Some of the popular languages that Data Scientists use are:\n",
    "1)Python\n",
    "2)R\n",
    "3)Scala\n"
   ]
  },
  {
   "cell_type": "markdown",
   "id": "2f20aec1",
   "metadata": {},
   "source": [
    "Some of the commonly used libraries used by Data Scientists include:\n",
    "1)Pandas\n",
    "2)Sci-kit\n",
    "3)matplot lib\n",
    "4)Numpy"
   ]
  },
  {
   "cell_type": "code",
   "execution_count": 13,
   "id": "8276bc4b",
   "metadata": {},
   "outputs": [],
   "source": [
    "\n",
    "# | Data Science Tools |\n",
    "# |--------------------|\n",
    "# | Tenforflow         |\n",
    "# | Pycharm            |\n",
    "# | Apache Spark      |\n"
   ]
  },
  {
   "cell_type": "markdown",
   "id": "3bc4f082",
   "metadata": {},
   "source": [
    "### Below are a few examples of evaluating arithmetic expressions in Python\n"
   ]
  },
  {
   "cell_type": "code",
   "execution_count": 10,
   "id": "2f8113e9",
   "metadata": {},
   "outputs": [
    {
     "name": "stdout",
     "output_type": "stream",
     "text": [
      "6\n",
      "3\n"
     ]
    }
   ],
   "source": [
    "print(2+2)\n",
    "print(3*2)\n",
    "print(4-1)"
   ]
  },
  {
   "cell_type": "code",
   "execution_count": 9,
   "id": "dc8286ab",
   "metadata": {},
   "outputs": [
    {
     "data": {
      "text/plain": [
       "17"
      ]
     },
     "execution_count": 9,
     "metadata": {},
     "output_type": "execute_result"
    }
   ],
   "source": [
    "(3*4)+5\n",
    "#this a simple arithmetic expression to mutiply then add integers"
   ]
  },
  {
   "cell_type": "code",
   "execution_count": 11,
   "id": "4b781175",
   "metadata": {},
   "outputs": [
    {
     "data": {
      "text/plain": [
       "3.3333333333333335"
      ]
     },
     "execution_count": 11,
     "metadata": {},
     "output_type": "execute_result"
    }
   ],
   "source": [
    "200/60\n",
    "#This will convert 200 minutes to hours by diving by 60"
   ]
  },
  {
   "cell_type": "markdown",
   "id": "e05ba050",
   "metadata": {},
   "source": [
    "## Author\n",
    "Andrei"
   ]
  },
  {
   "cell_type": "code",
   "execution_count": null,
   "id": "2e6877d5",
   "metadata": {},
   "outputs": [],
   "source": []
  }
 ],
 "metadata": {
  "kernelspec": {
   "display_name": "Python 3 (ipykernel)",
   "language": "python",
   "name": "python3"
  },
  "language_info": {
   "codemirror_mode": {
    "name": "ipython",
    "version": 3
   },
   "file_extension": ".py",
   "mimetype": "text/x-python",
   "name": "python",
   "nbconvert_exporter": "python",
   "pygments_lexer": "ipython3",
   "version": "3.11.5"
  }
 },
 "nbformat": 4,
 "nbformat_minor": 5
}
